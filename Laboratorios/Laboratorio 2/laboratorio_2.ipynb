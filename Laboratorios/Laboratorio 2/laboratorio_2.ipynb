{
  "nbformat": 4,
  "nbformat_minor": 0,
  "metadata": {
    "colab": {
      "name": "laboratorio 2.ipynb",
      "provenance": []
    },
    "kernelspec": {
      "name": "python3",
      "display_name": "Python 3"
    },
    "language_info": {
      "name": "python"
    },
    "accelerator": "GPU"
  },
  "cells": [
    {
      "cell_type": "markdown",
      "source": [
        "**LABORATORIO 2**\n",
        "\n",
        "*   Dataset:https://drive.google.com/file/d/1Brkgq35abJeW1fpZqmuWSDLNdj2wIh4r/view?usp=sharing\n",
        "*   repositorio github:https://github.com/R1mber/sis421/tree/master/Laboratorios\n",
        "\n",
        "\n",
        "\n"
      ],
      "metadata": {
        "id": "HQZmVQir8YXI"
      }
    },
    {
      "cell_type": "code",
      "execution_count": null,
      "metadata": {
        "id": "i9w61R16OQqg"
      },
      "outputs": [],
      "source": [
        "import os\n",
        "import torch\n",
        "from PIL import Image\n",
        "import matplotlib.pyplot as plt\n",
        "from sklearn.metrics import accuracy_score\n",
        "import numpy as np"
      ]
    },
    {
      "cell_type": "code",
      "source": [
        "from google.colab import drive\n",
        "drive.mount('/content/drive/')"
      ],
      "metadata": {
        "colab": {
          "base_uri": "https://localhost:8080/"
        },
        "id": "Sdzbe9NcPGYd",
        "outputId": "225dffb6-2417-4fbb-cab9-b68eeabce0b8"
      },
      "execution_count": null,
      "outputs": [
        {
          "output_type": "stream",
          "name": "stdout",
          "text": [
            "Drive already mounted at /content/drive/; to attempt to forcibly remount, call drive.mount(\"/content/drive/\", force_remount=True).\n"
          ]
        }
      ]
    },
    {
      "cell_type": "code",
      "source": [
        "import shutil\n",
        "shutil.copy(\"/content/drive/MyDrive/inteligencia_artificial/ia2/laboratorio/laboratorio 2/dataset_ropa.zip\", \"dataset_ropa.zip\")"
      ],
      "metadata": {
        "colab": {
          "base_uri": "https://localhost:8080/",
          "height": 35
        },
        "id": "_3EyKbuiPhaS",
        "outputId": "ffa781cb-11f5-4aee-bcf1-a819e191c0ef"
      },
      "execution_count": null,
      "outputs": [
        {
          "output_type": "execute_result",
          "data": {
            "text/plain": [
              "'dataset_ropa.zip'"
            ],
            "application/vnd.google.colaboratory.intrinsic+json": {
              "type": "string"
            }
          },
          "metadata": {},
          "execution_count": 3
        }
      ]
    },
    {
      "cell_type": "code",
      "source": [
        "shutil.unpack_archive(\"dataset_ropa.zip\")"
      ],
      "metadata": {
        "id": "Jnt7Zwr6P6f6"
      },
      "execution_count": null,
      "outputs": []
    },
    {
      "cell_type": "code",
      "source": [
        "path_train = '/content/train/'\n",
        "path_test = '/content/test/'\n",
        "directorios_train = os.listdir(path_train)\n",
        "directorios_test = os.listdir(path_test)\n",
        "directorios_test , directorios_train"
      ],
      "metadata": {
        "colab": {
          "base_uri": "https://localhost:8080/"
        },
        "id": "H5N2UC-yRI-M",
        "outputId": "a39b1da1-a0cd-44f1-ef32-37cfaf6ad951"
      },
      "execution_count": null,
      "outputs": [
        {
          "output_type": "execute_result",
          "data": {
            "text/plain": [
              "(['vestido', '.ipynb_checkpoints', 'camisa', 'cortos', 'sudadera'],\n",
              " ['vestido', 'camisa', 'cortos', 'sudadera'])"
            ]
          },
          "metadata": {},
          "execution_count": 5
        }
      ]
    },
    {
      "cell_type": "code",
      "source": [
        ""
      ],
      "metadata": {
        "id": "v2LanJCkSX0H"
      },
      "execution_count": null,
      "outputs": []
    },
    {
      "cell_type": "code",
      "source": [
        "labels_def = {'vestido':0, 'camisa':1, 'cortos':2, 'sudadera':3}"
      ],
      "metadata": {
        "id": "ufIKi-bHRpk5"
      },
      "execution_count": null,
      "outputs": []
    },
    {
      "cell_type": "code",
      "source": [
        "def loadImages(path, directorio):\n",
        "    labels = []\n",
        "    images = []\n",
        "    for d in directorio:\n",
        "        imagenes = os.listdir(path + d)\n",
        "        for i in imagenes:\n",
        "            imgPath2 = path + d + '/' + i\n",
        "            img1 = Image.open(imgPath2)\n",
        "            new_img = img1.resize((50,50))\n",
        "            images.append(np.array(new_img)/255)\n",
        "            labels.append(labels_def[d])\n",
        "    return images, labels\n"
      ],
      "metadata": {
        "id": "RpLAkAs9TKwr"
      },
      "execution_count": null,
      "outputs": []
    },
    {
      "cell_type": "code",
      "source": [
        "images_train , labels_train = loadImages(path_train,directorios_train)\n",
        "images_test , labels_test = loadImages(path_test,directorios_test)"
      ],
      "metadata": {
        "id": "6PX4dsrzUhS_"
      },
      "execution_count": null,
      "outputs": []
    },
    {
      "cell_type": "code",
      "source": [
        "X_test= np.asarray(images_test)\n",
        "y_test = np.asarray(labels_test)\n",
        "x = np.asarray(images_train)\n",
        "y = np.asarray(labels_train)"
      ],
      "metadata": {
        "id": "vKkMS7kSVsK3"
      },
      "execution_count": null,
      "outputs": []
    },
    {
      "cell_type": "code",
      "source": [
        "X_test.shape, x.shape"
      ],
      "metadata": {
        "colab": {
          "base_uri": "https://localhost:8080/"
        },
        "id": "JyZBj6IMVyjz",
        "outputId": "bee1d39b-317a-4eff-d0fe-c0fc616049d5"
      },
      "execution_count": null,
      "outputs": [
        {
          "output_type": "execute_result",
          "data": {
            "text/plain": [
              "((19, 50, 50, 3), (6535, 50, 50, 3))"
            ]
          },
          "metadata": {},
          "execution_count": 10
        }
      ]
    },
    {
      "cell_type": "code",
      "source": [
        "def getText(label):\n",
        "    for key in labels_def:\n",
        "      if labels_def[key] == label:\n",
        "        print(key)\n",
        "\n",
        "def printImage(imageId):\n",
        "  label = y[imageId]\n",
        "  plt.imshow(x[imageId])\n",
        "  getText(label)\n",
        "printImage(4000)"
      ],
      "metadata": {
        "colab": {
          "base_uri": "https://localhost:8080/",
          "height": 285
        },
        "id": "t6Z0KOVbXLdO",
        "outputId": "eb79dff6-1d81-479e-8936-75d5a8051f41"
      },
      "execution_count": null,
      "outputs": [
        {
          "output_type": "stream",
          "name": "stdout",
          "text": [
            "camisa\n"
          ]
        },
        {
          "output_type": "display_data",
          "data": {
            "text/plain": [
              "<Figure size 432x288 with 1 Axes>"
            ],
            "image/png": "[encoded data removed]"
          },
          "metadata": {
            "needs_background": "light"
          }
        }
      ]
    },
    {
      "cell_type": "code",
      "source": [
        "dims = x.shape[1] * x.shape[2] * x.shape[3]\n",
        "x = x.reshape(x.shape[0], dims)"
      ],
      "metadata": {
        "id": "1Q2yj0XXXenO"
      },
      "execution_count": null,
      "outputs": []
    },
    {
      "cell_type": "code",
      "source": [
        "dims2 = X_test.shape[1] * X_test.shape[2] * X_test.shape[3]\n",
        "X_test = X_test.reshape(X_test.shape[0], dims2)\n"
      ],
      "metadata": {
        "id": "Odi_afxkX4Gu"
      },
      "execution_count": null,
      "outputs": []
    },
    {
      "cell_type": "code",
      "source": [
        "x.shape, y.shape"
      ],
      "metadata": {
        "colab": {
          "base_uri": "https://localhost:8080/"
        },
        "id": "aK544qPUYgbh",
        "outputId": "470d0a4f-8e46-40b3-eb02-9d290a1a1ffd"
      },
      "execution_count": null,
      "outputs": [
        {
          "output_type": "execute_result",
          "data": {
            "text/plain": [
              "((6535, 7500), (6535,))"
            ]
          },
          "metadata": {},
          "execution_count": 14
        }
      ]
    },
    {
      "cell_type": "code",
      "source": [
        "# creamos una clase que hereda de `torch.nn.Module`\n",
        "class Model(torch.nn.Module):\n",
        "    \n",
        "    # constructor\n",
        "    def __init__(self, D_in, H, D_out):\n",
        "        \n",
        "        # llamamos al constructor de la clase madre\n",
        "        super(Model, self).__init__()\n",
        "        \n",
        "        # definimos nuestras capas\n",
        "        self.fc1 = torch.nn.Linear(D_in, H)\n",
        "        self.relu = torch.nn.ReLU()\n",
        "        self.fc2 = torch.nn.Linear(H, D_out)\n",
        "        \n",
        "    # lógica para calcular las salidas de la red\n",
        "    def forward(self, x):\n",
        "        x = self.fc1(x)\n",
        "        x = self.relu(x)\n",
        "        x = self.fc2(x)\n",
        "        return x"
      ],
      "metadata": {
        "id": "PeUNU4HgY_Tv"
      },
      "execution_count": null,
      "outputs": []
    },
    {
      "cell_type": "code",
      "source": [
        ""
      ],
      "metadata": {
        "id": "xWSwwOukZTz7"
      },
      "execution_count": null,
      "outputs": []
    },
    {
      "cell_type": "code",
      "source": [
        "# función de pérdida y derivada\n",
        "\n",
        "def softmax(x):\n",
        "    return torch.exp(x) / torch.exp(x).sum(axis=-1,keepdims=True)\n"
      ],
      "metadata": {
        "id": "ZF6a-xoTaZ8X"
      },
      "execution_count": null,
      "outputs": []
    },
    {
      "cell_type": "code",
      "source": [
        "from sklearn.metrics import accuracy_score\n",
        "\n",
        "def evaluate(x):\n",
        "    model.eval()\n",
        "    y_pred = model(x)\n",
        "    y_probas = softmax(y_pred)\n",
        "    return torch.argmax(y_probas, axis=1)\n"
      ],
      "metadata": {
        "id": "y6PCsCJiaMFm"
      },
      "execution_count": null,
      "outputs": []
    },
    {
      "cell_type": "code",
      "source": [
        "#x_2=np.array(x)\n",
        "#y_2=np.array(y)\n",
        "model = Model(7500, 300, 4)\n",
        "outputs = model(torch.randn(64, 7500))\n",
        "outputs.shape"
      ],
      "metadata": {
        "colab": {
          "base_uri": "https://localhost:8080/"
        },
        "id": "MZSJVJ0nbe-J",
        "outputId": "b606c4cb-a253-498d-9107-8883c31c7099"
      },
      "execution_count": null,
      "outputs": [
        {
          "output_type": "execute_result",
          "data": {
            "text/plain": [
              "torch.Size([64, 4])"
            ]
          },
          "metadata": {},
          "execution_count": 18
        }
      ]
    },
    {
      "cell_type": "code",
      "source": [
        "X_t = torch.from_numpy(x).float().cuda()\n",
        "Y_t = torch.from_numpy(y).long().cuda()"
      ],
      "metadata": {
        "id": "qlUlpz69bDmN"
      },
      "execution_count": null,
      "outputs": []
    },
    {
      "cell_type": "code",
      "source": [
        "model.to(\"cuda\")\n",
        "criterion = torch.nn.CrossEntropyLoss()\n",
        "optimizer = torch.optim.SGD(model.parameters(), lr=0.1)\n",
        "\n",
        "epochs = 1000\n",
        "log_each = 100\n",
        "l = []\n",
        "model.train()\n",
        "for e in range(1, epochs+1): \n",
        "    \n",
        "    # forward\n",
        "    y_pred = model(X_t)\n",
        "\n",
        "    # loss\n",
        "    loss = criterion(y_pred, Y_t)\n",
        "    l.append(loss.item())\n",
        "    \n",
        "    # ponemos a cero los gradientes\n",
        "    optimizer.zero_grad()\n",
        "\n",
        "    # Backprop (calculamos todos los gradientes automáticamente)\n",
        "    loss.backward()\n",
        "\n",
        "    # update de los pesos\n",
        "    optimizer.step()\n",
        "    \n",
        "    if not e % log_each:\n",
        "        print(f\"Epoch {e}/{epochs} Loss {np.mean(l):.5f}\")\n",
        "        \n",
        "y_pred = evaluate(torch.from_numpy(X_test).float().cuda())\n",
        "accuracy_score(y_test, y_pred.cpu().numpy())"
      ],
      "metadata": {
        "colab": {
          "base_uri": "https://localhost:8080/"
        },
        "id": "4efDUXbFZowb",
        "outputId": "803c51ec-ba52-454e-e4cb-6c9782657aef"
      },
      "execution_count": null,
      "outputs": [
        {
          "output_type": "stream",
          "name": "stdout",
          "text": [
            "Epoch 100/1000 Loss 0.89019\n",
            "Epoch 200/1000 Loss 0.72344\n",
            "Epoch 300/1000 Loss 0.62480\n",
            "Epoch 400/1000 Loss 0.56064\n",
            "Epoch 500/1000 Loss 0.50901\n",
            "Epoch 600/1000 Loss 0.46914\n",
            "Epoch 700/1000 Loss 0.43716\n",
            "Epoch 800/1000 Loss 0.40964\n",
            "Epoch 900/1000 Loss 0.38598\n",
            "Epoch 1000/1000 Loss 0.36524\n"
          ]
        },
        {
          "output_type": "execute_result",
          "data": {
            "text/plain": [
              "0.8947368421052632"
            ]
          },
          "metadata": {},
          "execution_count": 20
        }
      ]
    },
    {
      "cell_type": "code",
      "source": [
        "y_pred"
      ],
      "metadata": {
        "colab": {
          "base_uri": "https://localhost:8080/"
        },
        "id": "Z8mqQGBuihBA",
        "outputId": "fd92bf5a-e5d7-4f99-8342-5a99990712e9"
      },
      "execution_count": null,
      "outputs": [
        {
          "output_type": "execute_result",
          "data": {
            "text/plain": [
              "tensor([0, 0, 0, 0, 0, 2, 1, 1, 1, 1, 3, 2, 2, 2, 3, 3, 3, 3, 3],\n",
              "       device='cuda:0')"
            ]
          },
          "metadata": {},
          "execution_count": 21
        }
      ]
    },
    {
      "cell_type": "code",
      "source": [
        "y_test"
      ],
      "metadata": {
        "id": "DzUARv-ri_gr",
        "outputId": "0a138049-6b2b-420e-99f0-c8a213319454",
        "colab": {
          "base_uri": "https://localhost:8080/"
        }
      },
      "execution_count": null,
      "outputs": [
        {
          "output_type": "execute_result",
          "data": {
            "text/plain": [
              "array([0, 0, 0, 0, 0, 1, 1, 1, 1, 1, 2, 2, 2, 2, 3, 3, 3, 3, 3])"
            ]
          },
          "metadata": {},
          "execution_count": 22
        }
      ]
    }
  ]
}